{
 "cells": [
  {
   "cell_type": "code",
   "execution_count": 1,
   "id": "65936a14",
   "metadata": {},
   "outputs": [
    {
     "name": "stdout",
     "output_type": "stream",
     "text": [
      "Answer = 2401\n"
     ]
    }
   ],
   "source": [
    "#** What is 7 to the power of 4?**\n",
    "\n",
    "base = 7\n",
    "exponent = 4\n",
    "\n",
    "result = pow(base, exponent)\n",
    "\n",
    "print(\"Answer = \" + str(result))"
   ]
  },
  {
   "cell_type": "code",
   "execution_count": 2,
   "id": "4e68dd2c",
   "metadata": {},
   "outputs": [
    {
     "name": "stdout",
     "output_type": "stream",
     "text": [
      "['Hy', 'there', 'Sam!']\n"
     ]
    }
   ],
   "source": [
    "#** Split this string:**\n",
    "\n",
    "    s = \"Hi there Sam!\"\n",
    "    \n",
    "**into a list. **\n",
    "\n",
    "str_1 = \"Hy there Sam!\"\n",
    "list_1 = str_1.split()\n",
    "print(list_1)"
   ]
  },
  {
   "cell_type": "code",
   "execution_count": 4,
   "id": "5bf27a59",
   "metadata": {},
   "outputs": [
    {
     "name": "stdout",
     "output_type": "stream",
     "text": [
      "The diameter of Earth is 12742 kilometers.\n"
     ]
    }
   ],
   "source": [
    "# Use .format() to print the following string: **\n",
    "\n",
    "    # The diameter of Earth is 12742 kilometers.\n",
    "\n",
    "planet = \"Earth\"\n",
    "diameter = 12742\n",
    "\n",
    "print(\"The diameter of {} is {} kilometers.\".format(planet, diameter))"
   ]
  },
  {
   "cell_type": "code",
   "execution_count": 4,
   "id": "ed613757",
   "metadata": {},
   "outputs": [
    {
     "name": "stdout",
     "output_type": "stream",
     "text": [
      "hello\n"
     ]
    }
   ],
   "source": [
    "\n",
    "\n",
    "lst = [1,2,[3,4],[5,[100,200,['hello']],23,11],1,7]\n",
    "print(lst[3][1][2][0])"
   ]
  },
  {
   "cell_type": "code",
   "execution_count": 5,
   "id": "85cd8ff0",
   "metadata": {},
   "outputs": [],
   "source": [
    "d = {'k1':[1,2,3,{'tricky':['oh','man','inception',{'target':[1,2,3,'hello']}]}]}"
   ]
  },
  {
   "cell_type": "code",
   "execution_count": 6,
   "id": "4e84c0c3",
   "metadata": {},
   "outputs": [
    {
     "name": "stdout",
     "output_type": "stream",
     "text": [
      "hello\n"
     ]
    }
   ],
   "source": [
    "print(d['k1'][3][\"tricky\"][3]['target'][3])"
   ]
  },
  {
   "cell_type": "code",
   "execution_count": 8,
   "id": "4247948f",
   "metadata": {},
   "outputs": [
    {
     "ename": "SyntaxError",
     "evalue": "invalid syntax (1654113679.py, line 4)",
     "output_type": "error",
     "traceback": [
      "\u001b[1;36m  Input \u001b[1;32mIn [8]\u001b[1;36m\u001b[0m\n\u001b[1;33m    tuple is immutable, and list is mutable\u001b[0m\n\u001b[1;37m                        ^\u001b[0m\n\u001b[1;31mSyntaxError\u001b[0m\u001b[1;31m:\u001b[0m invalid syntax\n"
     ]
    }
   ],
   "source": [
    "t = (1, 2, 3)\n",
    "list = [1, 2, 3, 4, 5]\n",
    "\n",
    "tuple is immutable, and list is mutable"
   ]
  },
  {
   "cell_type": "code",
   "execution_count": 9,
   "id": "2036dfa8",
   "metadata": {},
   "outputs": [
    {
     "name": "stdout",
     "output_type": "stream",
     "text": [
      "Please enter your email: >harnoorkhehra28@gmail.com\n",
      "Your domain is: gmail.com\n"
     ]
    }
   ],
   "source": [
    "def domainGet(email):\n",
    "    print(\"Your domain is: \" + email.split('@')[-1])\n",
    "\n",
    "email = input(\"Please enter your email: >\")\n",
    "domainGet(email)"
   ]
  },
  {
   "cell_type": "code",
   "execution_count": 11,
   "id": "4cb26dcb",
   "metadata": {},
   "outputs": [
    {
     "name": "stdout",
     "output_type": "stream",
     "text": [
      "Please key a string: >dog\n",
      "True\n"
     ]
    }
   ],
   "source": [
    "def findDog(st):\n",
    "    if 'dog' in st.lower():\n",
    "        print(\"True\")\n",
    "    else:\n",
    "        print(\"False\")\n",
    "\n",
    "st = input(\"Please key a string: >\")\n",
    "findDog(st)"
   ]
  },
  {
   "cell_type": "code",
   "execution_count": 12,
   "id": "8eb9830e",
   "metadata": {},
   "outputs": [
    {
     "name": "stdout",
     "output_type": "stream",
     "text": [
      "Please enter your string: dog\n",
      "1\n"
     ]
    }
   ],
   "source": [
    "string = input(\"Please enter your string: \")\n",
    "\n",
    "def countdogs(string):\n",
    "    count = 0\n",
    "    for word in string.lower().split():\n",
    "        if word == 'dog' or word == 'dogs':\n",
    "            count = count + 1\n",
    "            print(count)\n",
    "\n",
    "countdogs(string)"
   ]
  },
  {
   "cell_type": "code",
   "execution_count": 13,
   "id": "187f6412",
   "metadata": {},
   "outputs": [
    {
     "name": "stdout",
     "output_type": "stream",
     "text": [
      "Please enter the speed(km/h)(only number please): \n",
      "\n",
      "> 32\n",
      "Please enter your birthday: (in DD/MM/YYYY format)\n",
      "\n",
      "> 01/11/22\n",
      "You pass.\n"
     ]
    }
   ],
   "source": [
    "print(\"Please enter the speed(km/h)(only number please): \\n\")\n",
    "speed = int(input(\"> \"))\n",
    "\n",
    "print(\"Please enter your birthday: (in DD/MM/YYYY format)\\n\")\n",
    "birthday = str(input(\"> \"))\n",
    "\n",
    "def speeding(speed, birthday):\n",
    "    if birthday == '29/08/1989':\n",
    "        s = speed - 5\n",
    "    else:\n",
    "        s = speed\n",
    "\n",
    "    if s <= 60:\n",
    "        print(\"You pass.\")\n",
    "    elif s > 61 and s <= 80:\n",
    "        print(\"You get a small ticket\")\n",
    "    else:\n",
    "        print(\"You get a big ticket.\")\n",
    "\n",
    "speeding(speed, birthday)"
   ]
  },
  {
   "cell_type": "code",
   "execution_count": null,
   "id": "1f894797",
   "metadata": {},
   "outputs": [],
   "source": []
  }
 ],
 "metadata": {
  "kernelspec": {
   "display_name": "Python 3.10.2 64-bit",
   "language": "python",
   "name": "python3102jvsc74a57bd0495d9c33b28de3a0c692dfd23fdaf3709b2a23f32c3c93b198456f85e5e18ac7"
  },
  "language_info": {
   "codemirror_mode": {
    "name": "ipython",
    "version": 3
   },
   "file_extension": ".py",
   "mimetype": "text/x-python",
   "name": "python",
   "nbconvert_exporter": "python",
   "pygments_lexer": "ipython3",
   "version": "3.10.2"
  }
 },
 "nbformat": 4,
 "nbformat_minor": 5
}
